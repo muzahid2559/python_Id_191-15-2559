{
  "nbformat": 4,
  "nbformat_minor": 0,
  "metadata": {
    "colab": {
      "name": "Copy of week 4(Lab Work).ipynb",
      "provenance": [],
      "authorship_tag": "ABX9TyMtxmGxX8slF+L4SYYWNXUM",
      "include_colab_link": true
    },
    "kernelspec": {
      "name": "python3",
      "display_name": "Python 3"
    }
  },
  "cells": [
    {
      "cell_type": "markdown",
      "metadata": {
        "id": "view-in-github",
        "colab_type": "text"
      },
      "source": [
        "<a href=\"https://colab.research.google.com/github/muzahid626/python_Id_191-15-2559/blob/master/week_4(Lab%20Work).ipynb\" target=\"_parent\"><img src=\"https://colab.research.google.com/assets/colab-badge.svg\" alt=\"Open In Colab\"/></a>"
      ]
    },
    {
      "cell_type": "markdown",
      "metadata": {
        "id": "hY78cLVOoXiL"
      },
      "source": [
        "**creating list**"
      ]
    },
    {
      "cell_type": "code",
      "metadata": {
        "id": "O0t7SZsfoiCZ",
        "outputId": "fa35db6a-0d95-4c15-aa2e-2d3be522e8b4",
        "colab": {
          "base_uri": "https://localhost:8080/",
          "height": 72
        }
      },
      "source": [
        "lst0=[1,2,4,32,2.23,43.23,'python',[2,32,3]]\n",
        "print(lst0)\n",
        "lst1=[]\n",
        "print(lst1)\n",
        "lst2=list()\n",
        "print(lst2)"
      ],
      "execution_count": null,
      "outputs": [
        {
          "output_type": "stream",
          "text": [
            "[1, 2, 4, 32, 2.23, 43.23, 'python', [2, 32, 3]]\n",
            "[]\n",
            "[]\n"
          ],
          "name": "stdout"
        }
      ]
    },
    {
      "cell_type": "markdown",
      "metadata": {
        "id": "DbOzj4hXqAFI"
      },
      "source": [
        "**iterating list**"
      ]
    },
    {
      "cell_type": "code",
      "metadata": {
        "id": "LXdqmdUbpbQ-",
        "outputId": "75687615-5eec-4a6f-f169-ec15e63c91ee",
        "colab": {
          "base_uri": "https://localhost:8080/",
          "height": 163
        }
      },
      "source": [
        "lst0=[1,2,3,32,2.23,43.23,\"python\",[2,32,3]]\n",
        "for i in lst0:\n",
        "    print(i,end='\\n')"
      ],
      "execution_count": null,
      "outputs": [
        {
          "output_type": "stream",
          "text": [
            "1\n",
            "2\n",
            "3\n",
            "32\n",
            "2.23\n",
            "43.23\n",
            "python\n",
            "[2, 32, 3]\n"
          ],
          "name": "stdout"
        }
      ]
    },
    {
      "cell_type": "code",
      "metadata": {
        "id": "WCP_uHsvpbQD",
        "outputId": "2dbbfa8b-668f-43f3-ac01-55e5a02ee440",
        "colab": {
          "base_uri": "https://localhost:8080/",
          "height": 90
        }
      },
      "source": [
        "lst0=[1,2,3,32,2.23,43.23,\"python\",[2,32,3]]\n",
        "print(lst0[2])\n",
        "print(lst0[6])\n",
        "print(lst0[-2])\n",
        "print(lst0[-5])"
      ],
      "execution_count": null,
      "outputs": [
        {
          "output_type": "stream",
          "text": [
            "3\n",
            "python\n",
            "python\n",
            "32\n"
          ],
          "name": "stdout"
        }
      ]
    },
    {
      "cell_type": "markdown",
      "metadata": {
        "id": "CL56WSA0qv7Y"
      },
      "source": [
        "**List operations**\n",
        "\n"
      ]
    },
    {
      "cell_type": "code",
      "metadata": {
        "id": "1V0r_r6Yqp6p",
        "outputId": "c6b898db-105d-49c6-8b6a-e78affb62daa",
        "colab": {
          "base_uri": "https://localhost:8080/",
          "height": 181
        }
      },
      "source": [
        "lst1=[1,2,3,32,2.23,43.23,\"python\",[2,32,3]]\n",
        "\n",
        "print(len(lst1))\n",
        "\n",
        "lst1.append([12,10,12,2])\n",
        "print(lst1)\n",
        "\n",
        "lst1.insert(2,\"pandas\")\n",
        "print(lst1)\n",
        "\n",
        "lst1.remove(3)\n",
        "print(lst1)\n",
        "\n",
        "print(lst1.index(\"python\"))\n",
        "\n",
        "print(lst1.count('pandas'))\n",
        "\n",
        "print(lst1.reverse()) \n",
        "\n",
        "lst1=lst1.copy()\n",
        "print(lst1)\n",
        "\n",
        "lst1.clear()\n",
        "print(lst1)"
      ],
      "execution_count": null,
      "outputs": [
        {
          "output_type": "stream",
          "text": [
            "8\n",
            "[1, 2, 3, 32, 2.23, 43.23, 'python', [2, 32, 3], [12, 10, 12, 2]]\n",
            "[1, 2, 'pandas', 3, 32, 2.23, 43.23, 'python', [2, 32, 3], [12, 10, 12, 2]]\n",
            "[1, 2, 'pandas', 32, 2.23, 43.23, 'python', [2, 32, 3], [12, 10, 12, 2]]\n",
            "6\n",
            "1\n",
            "None\n",
            "[[12, 10, 12, 2], [2, 32, 3], 'python', 43.23, 2.23, 32, 'pandas', 2, 1]\n",
            "[]\n"
          ],
          "name": "stdout"
        }
      ]
    },
    {
      "cell_type": "markdown",
      "metadata": {
        "id": "alLPwdFswIIV"
      },
      "source": [
        "**lsit slicing**"
      ]
    },
    {
      "cell_type": "code",
      "metadata": {
        "id": "rT8bmRv3wJC2",
        "outputId": "1c0e5997-ec27-48ac-aa6e-229ffeea7938",
        "colab": {
          "base_uri": "https://localhost:8080/",
          "height": 90
        }
      },
      "source": [
        "lst1=[1,2,3,32,2.23,43.23,\"python\",[2,32,3]]\n",
        "\n",
        "print(lst1[2:7])\n",
        "print(lst1[2:])\n",
        "print(lst1[:5])\n",
        "print(lst1[:])"
      ],
      "execution_count": null,
      "outputs": [
        {
          "output_type": "stream",
          "text": [
            "[3, 32, 2.23, 43.23, 'python']\n",
            "[3, 32, 2.23, 43.23, 'python', [2, 32, 3]]\n",
            "[1, 2, 3, 32, 2.23]\n",
            "[1, 2, 3, 32, 2.23, 43.23, 'python', [2, 32, 3]]\n"
          ],
          "name": "stdout"
        }
      ]
    },
    {
      "cell_type": "markdown",
      "metadata": {
        "id": "waGoMos7xBkN"
      },
      "source": [
        "**list sorting**"
      ]
    },
    {
      "cell_type": "code",
      "metadata": {
        "id": "bC-IDhfwxBTX",
        "outputId": "3bf0f803-cc7b-4c4d-a970-4ea1e81343f8",
        "colab": {
          "base_uri": "https://localhost:8080/",
          "height": 72
        }
      },
      "source": [
        "lst1=[1,2,4,2,4,2,4,2,5,6,7,4]\n",
        "\n",
        "lst3=sorted(lst1)\n",
        "print(lst3)\n",
        "print(lst1)\n",
        "lst1.sort()\n",
        "print(lst1)"
      ],
      "execution_count": null,
      "outputs": [
        {
          "output_type": "stream",
          "text": [
            "[1, 2, 2, 2, 2, 4, 4, 4, 4, 5, 6, 7]\n",
            "[1, 2, 4, 2, 4, 2, 4, 2, 5, 6, 7, 4]\n",
            "[1, 2, 2, 2, 2, 4, 4, 4, 4, 5, 6, 7]\n"
          ],
          "name": "stdout"
        }
      ]
    },
    {
      "cell_type": "markdown",
      "metadata": {
        "id": "hG9CbfmExd_t"
      },
      "source": [
        "**creating tuple**"
      ]
    },
    {
      "cell_type": "code",
      "metadata": {
        "id": "svVh2il4xnpt",
        "outputId": "d6c214bd-e60e-4242-f890-7a73a4e19905",
        "colab": {
          "base_uri": "https://localhost:8080/",
          "height": 72
        }
      },
      "source": [
        "tp0=(1,2,3,32,2.23,43.23,\"python\",[2,32,3])\n",
        "print(tp0)\n",
        "tp1=()\n",
        "print(tp1)\n",
        "tp2=tuple()\n",
        "print(tp2)"
      ],
      "execution_count": null,
      "outputs": [
        {
          "output_type": "stream",
          "text": [
            "(1, 2, 3, 32, 2.23, 43.23, 'python', [2, 32, 3])\n",
            "()\n",
            "()\n"
          ],
          "name": "stdout"
        }
      ]
    },
    {
      "cell_type": "markdown",
      "metadata": {
        "id": "mqCgdTsuyWy2"
      },
      "source": [
        "\n",
        "**iterating tuple**"
      ]
    },
    {
      "cell_type": "code",
      "metadata": {
        "id": "CBa829x5yVsh",
        "outputId": "54f66423-6e82-40d3-9ea3-3e19631da1ba",
        "colab": {
          "base_uri": "https://localhost:8080/",
          "height": 35
        }
      },
      "source": [
        "tp0=(1,2,3,40,2.23,43.23,\"python\",[2,32,3])\n",
        "for i in tp0:\n",
        "    print(i,end=' ')\n",
        "print('')"
      ],
      "execution_count": null,
      "outputs": [
        {
          "output_type": "stream",
          "text": [
            "1 2 3 40 2.23 43.23 python [2, 32, 3] \n"
          ],
          "name": "stdout"
        }
      ]
    },
    {
      "cell_type": "code",
      "metadata": {
        "id": "6oLZcUWozJfm",
        "outputId": "664ee7b0-19ec-46c3-c83a-d3d875a377c7",
        "colab": {
          "base_uri": "https://localhost:8080/",
          "height": 90
        }
      },
      "source": [
        "tp0=(1,2,3,52,2.23,43.23,\"python\",[2,32,3])\n",
        "print(tp0[2])\n",
        "print(tp0[6])\n",
        "print(tp0[-2])\n",
        "print(tp0[-5])"
      ],
      "execution_count": null,
      "outputs": [
        {
          "output_type": "stream",
          "text": [
            "3\n",
            "python\n",
            "python\n",
            "52\n"
          ],
          "name": "stdout"
        }
      ]
    },
    {
      "cell_type": "markdown",
      "metadata": {
        "id": "uxzjwk_3zka8"
      },
      "source": [
        "**inserting into tuple**"
      ]
    },
    {
      "cell_type": "code",
      "metadata": {
        "id": "JEVjbabYzjZF",
        "outputId": "6979f604-83bb-4e1f-ab77-2a1abf38bdf4",
        "colab": {
          "base_uri": "https://localhost:8080/",
          "height": 35
        }
      },
      "source": [
        "tp2=(1,2,3,32,2.23,43.23,\"python\",[2,32,3])\n",
        "tp2+=(\"pandas\",232,3,23,256,3)\n",
        "print(tp2)"
      ],
      "execution_count": null,
      "outputs": [
        {
          "output_type": "stream",
          "text": [
            "(1, 2, 3, 32, 2.23, 43.23, 'python', [2, 32, 3], 'pandas', 232, 3, 23, 256, 3)\n"
          ],
          "name": "stdout"
        }
      ]
    },
    {
      "cell_type": "markdown",
      "metadata": {
        "id": "8l4V8QtT0WLk"
      },
      "source": [
        "**unpacking sequences**"
      ]
    },
    {
      "cell_type": "code",
      "metadata": {
        "id": "UytxZ4Qg0Bzh",
        "outputId": "c56801fd-2657-4ef0-c673-49e72611b5be",
        "colab": {
          "base_uri": "https://localhost:8080/",
          "height": 90
        }
      },
      "source": [
        "lst1=[2,3,423,43]\n",
        "d,e,f,g=lst1\n",
        "print(g)\n",
        "print(e)\n",
        "print(f)\n",
        "print(d)"
      ],
      "execution_count": null,
      "outputs": [
        {
          "output_type": "stream",
          "text": [
            "43\n",
            "3\n",
            "423\n",
            "2\n"
          ],
          "name": "stdout"
        }
      ]
    },
    {
      "cell_type": "code",
      "metadata": {
        "id": "3u17k4bx0wak",
        "outputId": "d90f10ac-8ed7-42b1-ba00-9f68e96501ad",
        "colab": {
          "base_uri": "https://localhost:8080/",
          "height": 90
        }
      },
      "source": [
        "tp=(2,3,423,43)\n",
        "a,b,c,d=tp\n",
        "print(a,b,c,d)\n",
        "print(b)\n",
        "print(c)\n",
        "print(d)"
      ],
      "execution_count": null,
      "outputs": [
        {
          "output_type": "stream",
          "text": [
            "2 3 423 43\n",
            "3\n",
            "423\n",
            "43\n"
          ],
          "name": "stdout"
        }
      ]
    }
  ]
}