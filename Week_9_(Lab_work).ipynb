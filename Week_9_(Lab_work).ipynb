{
  "nbformat": 4,
  "nbformat_minor": 0,
  "metadata": {
    "colab": {
      "name": "Week 9 (Lab work).ipynb",
      "provenance": [],
      "authorship_tag": "ABX9TyM4LU8g+xds8tc+OB43xAvK",
      "include_colab_link": true
    },
    "kernelspec": {
      "name": "python3",
      "display_name": "Python 3"
    }
  },
  "cells": [
    {
      "cell_type": "markdown",
      "metadata": {
        "id": "view-in-github",
        "colab_type": "text"
      },
      "source": [
        "<a href=\"https://colab.research.google.com/github/muzahid626/python_Id_191-15-2559/blob/master/Week_9_(Lab_work).ipynb\" target=\"_parent\"><img src=\"https://colab.research.google.com/assets/colab-badge.svg\" alt=\"Open In Colab\"/></a>"
      ]
    },
    {
      "cell_type": "markdown",
      "metadata": {
        "id": "Z_WjUrZNhrJI"
      },
      "source": [
        "**Polymorphism in Class Methods**"
      ]
    },
    {
      "cell_type": "code",
      "metadata": {
        "id": "gJtxidhlhvL3"
      },
      "source": [
        "class Cat:\n",
        "    def __init__(self, name, age):\n",
        "        self.name = name\n",
        "        self.age = age\n",
        "\n",
        "    def info(self):\n",
        "        print(f\"I am a cat. My name is {self.name}. I am {self.age} years old.\")\n",
        "\n",
        "    def make_sound(self):\n",
        "        print(\"Meow\")"
      ],
      "execution_count": 1,
      "outputs": []
    },
    {
      "cell_type": "code",
      "metadata": {
        "id": "SEkf-9Fah01Z"
      },
      "source": [
        "class Mouse:\n",
        "    def __init__(self, name, age):\n",
        "        self.name = name\n",
        "        self.age = age\n",
        "\n",
        "    def info(self):\n",
        "        print(f\"I am a Mouse. My name is {self.name}. I am {self.age} years old.\")\n",
        "\n",
        "    def make_sound(self):\n",
        "        print(\"Bark\")"
      ],
      "execution_count": 2,
      "outputs": []
    },
    {
      "cell_type": "code",
      "metadata": {
        "id": "p2qBSbphh63m"
      },
      "source": [
        "#create object\n",
        "cat1 = Cat(\"tom\", 2.5)\n",
        "mouse1 = Mouse(\"jerry\", 4)"
      ],
      "execution_count": 3,
      "outputs": []
    },
    {
      "cell_type": "code",
      "metadata": {
        "colab": {
          "base_uri": "https://localhost:8080/"
        },
        "id": "AkjoUInWh7B-",
        "outputId": "2cb08957-7db8-406b-9ee6-963427a4bcf1"
      },
      "source": [
        "\n",
        "for animal in (cat1, mouse1):\n",
        "    animal.make_sound()\n",
        "    animal.info()\n",
        "    animal.make_sound()"
      ],
      "execution_count": 4,
      "outputs": [
        {
          "output_type": "stream",
          "text": [
            "Meow\n",
            "I am a cat. My name is tom. I am 2.5 years old.\n",
            "Meow\n",
            "Bark\n",
            "I am a Mouse. My name is jerry. I am 4 years old.\n",
            "Bark\n"
          ],
          "name": "stdout"
        }
      ]
    },
    {
      "cell_type": "code",
      "metadata": {
        "id": "AYq4_8FNiEKb"
      },
      "source": [
        "#error and exception handling \n",
        "\n",
        "def add(n1, n2):\n",
        "  print(n1+n2)"
      ],
      "execution_count": 6,
      "outputs": []
    },
    {
      "cell_type": "code",
      "metadata": {
        "colab": {
          "base_uri": "https://localhost:8080/"
        },
        "id": "fXaSC9o_iJAE",
        "outputId": "ee07c090-c70c-4745-e898-e61797ca2ef7"
      },
      "source": [
        "add(10,20)"
      ],
      "execution_count": 7,
      "outputs": [
        {
          "output_type": "stream",
          "text": [
            "30\n"
          ],
          "name": "stdout"
        }
      ]
    },
    {
      "cell_type": "code",
      "metadata": {
        "colab": {
          "base_uri": "https://localhost:8080/"
        },
        "id": "UHYK69Veigwz",
        "outputId": "f3de3420-6b6b-4f2e-c16d-964959e88590"
      },
      "source": [
        "#exception handling\n",
        "\n",
        "try:\n",
        "  #want to attempt this code \n",
        "  #may have an error\n",
        "  result = 10+'10'\n",
        "except:\n",
        "  print(f'Hey! its looks like you are not adding correctly!')"
      ],
      "execution_count": 11,
      "outputs": [
        {
          "output_type": "stream",
          "text": [
            "Hey! its looks like you are not adding correctly!\n"
          ],
          "name": "stdout"
        }
      ]
    },
    {
      "cell_type": "code",
      "metadata": {
        "colab": {
          "base_uri": "https://localhost:8080/"
        },
        "id": "ErUgWix2ihHT",
        "outputId": "eeac8a83-5aed-4d63-8995-64af3b6ccb69"
      },
      "source": [
        "#exception handling\n",
        "\n",
        "try:\n",
        "  #want to attempt this code \n",
        "  result = 10+10\n",
        "except:\n",
        "  print(f'Hey! its looks like you are not adding correctly!')\n",
        "else:\n",
        "  print(f'add went well')\n",
        "  print(f'sum is: {result}')"
      ],
      "execution_count": 12,
      "outputs": [
        {
          "output_type": "stream",
          "text": [
            "add went well\n",
            "sum is: 20\n"
          ],
          "name": "stdout"
        }
      ]
    }
  ]
}