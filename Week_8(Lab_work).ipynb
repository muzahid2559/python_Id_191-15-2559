{
  "nbformat": 4,
  "nbformat_minor": 0,
  "metadata": {
    "colab": {
      "name": "Week 8(Lab work).ipynb",
      "provenance": [],
      "authorship_tag": "ABX9TyMX5VIYZNpOl+DrvTomBOjS",
      "include_colab_link": true
    },
    "kernelspec": {
      "name": "python3",
      "display_name": "Python 3"
    }
  },
  "cells": [
    {
      "cell_type": "markdown",
      "metadata": {
        "id": "view-in-github",
        "colab_type": "text"
      },
      "source": [
        "<a href=\"https://colab.research.google.com/github/muzahid626/python_Id_191-15-2559/blob/master/Week_8(Lab_work).ipynb\" target=\"_parent\"><img src=\"https://colab.research.google.com/assets/colab-badge.svg\" alt=\"Open In Colab\"/></a>"
      ]
    },
    {
      "cell_type": "code",
      "metadata": {
        "id": "XR3aJbV8etGd"
      },
      "source": [
        "#create base calss \n",
        "class Ball():\n",
        "  def __init__(self):\n",
        "    print(f'Ball created!')\n",
        "  \n",
        "  def who_am_i(self):\n",
        "    print(f'i am ball')"
      ],
      "execution_count": 12,
      "outputs": []
    },
    {
      "cell_type": "code",
      "metadata": {
        "id": "NC41Eciae7lY"
      },
      "source": [
        "#create a Child(football) class\n",
        "\n",
        "class Football(Ball):\n",
        "  def __init__(self):\n",
        "    #create instances of Ball\n",
        "    Ball.__init__(self)\n",
        "    print(f'football created!')"
      ],
      "execution_count": 13,
      "outputs": []
    },
    {
      "cell_type": "code",
      "metadata": {
        "colab": {
          "base_uri": "https://localhost:8080/"
        },
        "id": "8pxaOQeKfMDh",
        "outputId": "75356653-0bea-4565-9ae1-5c5db7bee933"
      },
      "source": [
        "#create object\n",
        "myFootball = Football()"
      ],
      "execution_count": 14,
      "outputs": [
        {
          "output_type": "stream",
          "text": [
            "Ball created!\n",
            "football created!\n"
          ],
          "name": "stdout"
        }
      ]
    },
    {
      "cell_type": "code",
      "metadata": {
        "colab": {
          "base_uri": "https://localhost:8080/"
        },
        "id": "FD115OGTfOBl",
        "outputId": "495f1659-347c-49d8-d1ae-2d1def2c082e"
      },
      "source": [
        "#call base method\n",
        "myFootball.who_am_i()"
      ],
      "execution_count": 6,
      "outputs": [
        {
          "output_type": "stream",
          "text": [
            "i am ball\n"
          ],
          "name": "stdout"
        }
      ]
    },
    {
      "cell_type": "code",
      "metadata": {
        "id": "2ZDwMlP4gi4m"
      },
      "source": [
        "#overriding\n",
        "class Football(Ball):\n",
        "  def __init__(self):\n",
        "    #create instances of Ball\n",
        "    Ball.__init__(self)\n",
        "    print(f'football created!')\n",
        "  #overide base class method\n",
        "  def who_am_i(self):\n",
        "    print(f'i am football!')"
      ],
      "execution_count": 24,
      "outputs": []
    },
    {
      "cell_type": "code",
      "metadata": {
        "colab": {
          "base_uri": "https://localhost:8080/"
        },
        "id": "sWUiQh8Ngonn",
        "outputId": "a5c778d0-6fe1-41aa-bbd9-612c14ae2523"
      },
      "source": [
        "#create object\n",
        "myFootball = Football()\n",
        "#call overide method\n",
        "myFootball.who_am_i()"
      ],
      "execution_count": 25,
      "outputs": [
        {
          "output_type": "stream",
          "text": [
            "Ball created!\n",
            "football created!\n",
            "i am football!\n"
          ],
          "name": "stdout"
        }
      ]
    },
    {
      "cell_type": "code",
      "metadata": {
        "id": "ONOloibXgsUy"
      },
      "source": [
        "#add new method \n",
        "#overriding\n",
        "class Football(Ball):\n",
        "  def __init__(self):\n",
        "    #create instances of Ball\n",
        "    Ball.__init__(self)\n",
        "    print(f'football created!')\n",
        "  #overide base class method\n",
        "  def who_am_i(self):\n",
        "    print(f'i am football!')\n",
        "  #new method\n",
        "  def play(self):\n",
        "    print(f'hey! i am ready for play!')"
      ],
      "execution_count": 26,
      "outputs": []
    },
    {
      "cell_type": "code",
      "metadata": {
        "colab": {
          "base_uri": "https://localhost:8080/"
        },
        "id": "ZlkwyCu5gvxs",
        "outputId": "d51d1c74-a8b0-4f55-94a0-b231ef81a558"
      },
      "source": [
        "#create object\n",
        "myFootball = Football()\n",
        "#call new method\n",
        "myFootball.play()"
      ],
      "execution_count": 27,
      "outputs": [
        {
          "output_type": "stream",
          "text": [
            "Ball created!\n",
            "football created!\n",
            "hey! i am ready for play!\n"
          ],
          "name": "stdout"
        }
      ]
    }
  ]
}